{
 "cells": [
  {
   "cell_type": "markdown",
   "id": "0975c9f4",
   "metadata": {},
   "source": [
    "# 📘 MNIST Curve Adjustment Layers (CALs) — Experimental Baseline\n",
    "\n",
    "## 🧠 Overview\n",
    "\n",
    "In this notebook, we establish a **strong and interpretable control model** on the **MNIST handwritten digit classification task**, forming the **foundation for our exploration of Curve Adjustment Layers (CALs)** — a novel technique aimed at improving neural network convergence and generalization.\n",
    "\n",
    "CALs act as *intermediary modules* between neural layers, applying **learned deformation curves** to activations. These curves serve to *bend the output space* toward more optimal configurations, enabling the model to adaptively reshape internal representations.\n",
    "\n",
    "This notebook provides:\n",
    "- ✅ A solid CNN-based reference model\n",
    "- 📥 MNIST dataset loading and visualization\n",
    "- 🧰 Preliminaries for future CAL insertion and ablation studies\n",
    "\n",
    "---\n"
   ]
  },
  {
   "cell_type": "markdown",
   "id": "295b8510",
   "metadata": {},
   "source": [
    "### 💽 Install any packages needed ..."
   ]
  },
  {
   "cell_type": "code",
   "execution_count": null,
   "id": "b17b5f7a",
   "metadata": {},
   "outputs": [],
   "source": [
    "!pip install matplotlib"
   ]
  },
  {
   "cell_type": "code",
   "execution_count": 8,
   "id": "ea013451",
   "metadata": {},
   "outputs": [],
   "source": [
    "import os\n",
    "import torch\n",
    "import numpy as np\n",
    "from tqdm import tqdm\n",
    "import torch.nn as nn\n",
    "from PIL import Image\n",
    "import torch.optim as optim\n",
    "import matplotlib.pyplot as plt\n",
    "from torchvision import datasets\n",
    "import torchvision.transforms as transforms\n",
    "from torchvision.datasets import MNIST, ImageFolder\n",
    "from torch.utils.data import DataLoader, Dataset, ConcatDataset"
   ]
  },
  {
   "cell_type": "markdown",
   "id": "cdd567bf",
   "metadata": {},
   "source": [
    "# Grab the MNIST Dataset:\n",
    "---\n",
    "\n",
    "The MNIST dataset is a collection of 70,000 handwritten digits (0-9) that is commonly used for training various image processing systems.\n",
    "\n",
    "\n",
    "## 📊 Dataset Summary: MNIST\n",
    "\n",
    "- **Type**: Grayscale handwritten digits  \n",
    "- **Size**: `60,000` training / `10,000` test samples  \n",
    "- **Resolution**: `28×28` pixels  \n",
    "- **Classes**: Digits `0–9`  \n",
    "\n",
    "---"
   ]
  },
  {
   "cell_type": "code",
   "execution_count": null,
   "id": "40fb29ca",
   "metadata": {},
   "outputs": [
    {
     "name": "stdout",
     "output_type": "stream",
     "text": [
      "MNIST dataset downloaded to: ..\\data\n"
     ]
    }
   ],
   "source": [
    "# Download MNIST dataset to a local directory:\n",
    "# M:\\dev\\ml\\data\n",
    "\n",
    "# Create the transform function to convert the image to a tensor and normalize it:\n",
    "# (Note: The normalization values are based on the MNIST dataset statistics.)\n",
    "tx = transforms.Compose( [\n",
    "    transforms.ToTensor( ),\n",
    "    transforms.Normalize( ( 0.1307, ), ( 0.3081, ) ),\n",
    "] )\n",
    "\n",
    "data_path = os.path.join( '..', 'data' )\n",
    "mnist_train = datasets.MNIST( data_path, train=True, download=True, transform=tx )\n",
    "mnist_test  = datasets.MNIST( data_path, train=False, download=True, transform=tx )\n",
    "print( \"MNIST dataset downloaded to:\", data_path )\n",
    "\n",
    "count_train = len( mnist_train )\n",
    "count_test = len( mnist_test )"
   ]
  },
  {
   "cell_type": "markdown",
   "id": "6d08f8aa",
   "metadata": {},
   "source": [
    "# Examine the data:\n",
    "---\n",
    "\n",
    "Read data samples and view the image and label ..."
   ]
  },
  {
   "cell_type": "code",
   "execution_count": 7,
   "id": "188650d9",
   "metadata": {},
   "outputs": [
    {
     "name": "stdout",
     "output_type": "stream",
     "text": [
      "Number of training samples: 60000\n",
      "Number of test samples: 10000\n",
      "Image: tensor([[[-0.4242, -0.4242, -0.4242, -0.4242, -0.4242, -0.4242, -0.4242,\n",
      "          -0.4242, -0.4242, -0.4242, -0.4242, -0.4242, -0.4242, -0.4242,\n",
      "          -0.4242, -0.4242, -0.4242, -0.4242, -0.4242, -0.4242, -0.4242,\n",
      "          -0.4242, -0.4242, -0.4242, -0.4242, -0.4242, -0.4242, -0.4242],\n",
      "         [-0.4242, -0.4242, -0.4242, -0.4242, -0.4242, -0.4242, -0.4242,\n",
      "          -0.4242, -0.4242, -0.4242, -0.4242, -0.4242, -0.4242, -0.4242,\n",
      "          -0.4242, -0.4242, -0.4242, -0.4242, -0.4242, -0.4242, -0.4242,\n",
      "          -0.4242, -0.4242, -0.4242, -0.4242, -0.4242, -0.4242, -0.4242],\n",
      "         [-0.4242, -0.4242, -0.4242, -0.4242, -0.4242, -0.4242, -0.4242,\n",
      "          -0.4242, -0.4242, -0.4242, -0.4242, -0.4242, -0.4242, -0.4242,\n",
      "          -0.4242, -0.4242, -0.4242, -0.4242, -0.4242, -0.4242, -0.4242,\n",
      "          -0.4242, -0.4242, -0.4242, -0.4242, -0.4242, -0.4242, -0.4242],\n",
      "         [-0.4242, -0.4242, -0.4242, -0.4242, -0.4242, -0.4242, -0.4242,\n",
      "          -0.4242, -0.4242, -0.4242, -0.4242, -0.4242, -0.4242, -0.4242,\n",
      "          -0.4242, -0.4242, -0.4242, -0.4242, -0.4242, -0.4242, -0.4242,\n",
      "          -0.4242, -0.4242, -0.4242, -0.4242, -0.4242, -0.4242, -0.4242],\n",
      "         [-0.4242, -0.4242, -0.4242, -0.4242, -0.4242, -0.4242, -0.4242,\n",
      "          -0.4242, -0.4242, -0.4242, -0.4242, -0.4242, -0.4242, -0.4242,\n",
      "          -0.4242, -0.4242, -0.4242, -0.4242, -0.4242, -0.4242, -0.4242,\n",
      "          -0.4242, -0.4242, -0.4242, -0.4242, -0.4242, -0.4242, -0.4242],\n",
      "         [-0.4242, -0.4242, -0.4242, -0.4242, -0.4242, -0.4242, -0.4242,\n",
      "          -0.4242, -0.4242, -0.4242, -0.4242, -0.4242, -0.4242, -0.4242,\n",
      "          -0.4242, -0.4242, -0.4242, -0.4242, -0.4242, -0.4242, -0.4242,\n",
      "          -0.4242, -0.4242, -0.4242, -0.4242, -0.4242, -0.4242, -0.4242],\n",
      "         [-0.4242, -0.4242, -0.4242, -0.4242, -0.4242, -0.4242, -0.4242,\n",
      "          -0.4242, -0.4242, -0.4242, -0.4242, -0.4242, -0.4242, -0.4242,\n",
      "          -0.4242, -0.4242, -0.4242, -0.4242, -0.4242, -0.4242, -0.4242,\n",
      "          -0.4242, -0.4242, -0.4242, -0.4242, -0.4242, -0.4242, -0.4242],\n",
      "         [-0.4242, -0.4242, -0.4242, -0.4242, -0.4242, -0.4242, -0.4242,\n",
      "          -0.4242, -0.4242, -0.4242,  0.6959,  1.8160,  2.8088,  2.8088,\n",
      "           2.8215,  2.1469,  1.0777, -0.2206, -0.4242, -0.4242, -0.4242,\n",
      "          -0.4242, -0.4242, -0.4242, -0.4242, -0.4242, -0.4242, -0.4242],\n",
      "         [-0.4242, -0.4242, -0.4242, -0.4242, -0.4242, -0.4242, -0.4242,\n",
      "          -0.4242, -0.4242,  1.3450,  2.7833,  2.7960,  2.7960,  2.7960,\n",
      "           2.8088,  2.7960,  2.7960,  2.1214,  0.3522, -0.4242, -0.4242,\n",
      "          -0.4242, -0.4242, -0.4242, -0.4242, -0.4242, -0.4242, -0.4242],\n",
      "         [-0.4242, -0.4242, -0.4242, -0.4242, -0.4242, -0.4242, -0.4242,\n",
      "          -0.3860,  1.2686,  2.8088,  2.7960,  2.5542,  1.4214,  0.3649,\n",
      "           0.7850,  1.4214,  2.7324,  2.7960,  2.6306,  2.0196,  0.0213,\n",
      "          -0.4242, -0.4242, -0.4242, -0.4242, -0.4242, -0.4242, -0.4242],\n",
      "         [-0.4242, -0.4242, -0.4242, -0.4242, -0.4242, -0.4242, -0.3860,\n",
      "           1.2559,  2.7960,  2.8088,  1.6632, -0.0806, -0.4242, -0.4242,\n",
      "          -0.4242, -0.4242,  0.3395,  2.3124,  2.7324,  2.8088,  2.6433,\n",
      "           0.5177, -0.4242, -0.4242, -0.4242, -0.4242, -0.4242, -0.4242],\n",
      "         [-0.4242, -0.4242, -0.4242, -0.4242, -0.4242, -0.4242,  0.4540,\n",
      "           2.7960,  2.7960,  0.9123, -0.3606, -0.4242, -0.4242, -0.4242,\n",
      "          -0.4242, -0.4242, -0.4242, -0.4242,  1.8796,  2.8088,  2.7960,\n",
      "           2.3251, -0.4242, -0.4242, -0.4242, -0.4242, -0.4242, -0.4242],\n",
      "         [-0.4242, -0.4242, -0.4242, -0.4242, -0.4242, -0.2206,  2.0705,\n",
      "           2.8088,  1.3068, -0.4242, -0.4242, -0.4242, -0.4242, -0.4242,\n",
      "          -0.4242, -0.4242, -0.4242,  0.5559,  2.8088,  2.8215,  2.8088,\n",
      "           2.8088,  0.2631, -0.4242, -0.4242, -0.4242, -0.4242, -0.4242],\n",
      "         [-0.4242, -0.4242, -0.4242, -0.4242, -0.4242,  0.2758,  2.7960,\n",
      "           2.3251, -0.3606, -0.4242, -0.4242, -0.4242, -0.4242, -0.4242,\n",
      "          -0.4242, -0.4242,  0.0976,  2.4269,  2.7960,  2.8088,  2.6433,\n",
      "           1.9305, -0.1315, -0.4242, -0.4242, -0.4242, -0.4242, -0.4242],\n",
      "         [-0.4242, -0.4242, -0.4242, -0.4242, -0.4242,  0.4413,  2.7960,\n",
      "           1.2432, -0.4242, -0.4242, -0.4242, -0.4242, -0.4242, -0.4242,\n",
      "          -0.4242,  0.6704,  2.4015,  2.7960,  2.7960,  2.8088,  1.5232,\n",
      "          -0.4242, -0.4242, -0.4242, -0.4242, -0.4242, -0.4242, -0.4242],\n",
      "         [-0.4242, -0.4242, -0.4242, -0.4242, -0.4242,  0.5177,  2.7960,\n",
      "           0.2631, -0.4242, -0.4242, -0.4242, -0.4242, -0.4242, -0.3351,\n",
      "           0.8868,  2.7451,  2.7960,  2.6942,  2.7324,  2.8088,  0.9504,\n",
      "          -0.4242, -0.4242, -0.4242, -0.4242, -0.4242, -0.4242, -0.4242],\n",
      "         [-0.4242, -0.4242, -0.4242, -0.4242, -0.4242,  0.2758,  2.7960,\n",
      "           0.6831, -0.4242, -0.4242, -0.4242, -0.4242,  0.5813,  2.2105,\n",
      "           2.8088,  2.7960,  2.2105,  0.3522,  1.8796,  2.8088,  0.9504,\n",
      "          -0.4242, -0.4242, -0.4242, -0.4242, -0.4242, -0.4242, -0.4242],\n",
      "         [-0.4242, -0.4242, -0.4242, -0.4242, -0.4242,  0.0849,  2.6687,\n",
      "           2.7197,  1.2305,  0.5049,  0.5049,  2.0705,  2.8088,  2.8088,\n",
      "           2.8215,  1.2814, -0.2587, -0.4242,  1.8923,  2.8215, -0.1951,\n",
      "          -0.4242, -0.4242, -0.4242, -0.4242, -0.4242, -0.4242, -0.4242],\n",
      "         [-0.4242, -0.4242, -0.4242, -0.4242, -0.4242, -0.4242,  1.4341,\n",
      "           2.7960,  2.7960,  2.8088,  2.7960,  2.7960,  2.7960,  1.8796,\n",
      "           0.2122, -0.3988, -0.4242, -0.4242,  1.8796,  2.8088, -0.1951,\n",
      "          -0.4242, -0.4242, -0.4242, -0.4242, -0.4242, -0.4242, -0.4242],\n",
      "         [-0.4242, -0.4242, -0.4242, -0.4242, -0.4242, -0.4242, -0.3478,\n",
      "           1.0268,  2.3251,  2.3378,  1.2559,  0.7722,  0.2758, -0.2842,\n",
      "          -0.4242, -0.4242, -0.4242, -0.4242,  1.8796,  2.6687, -0.2333,\n",
      "          -0.4242, -0.4242, -0.4242, -0.4242, -0.4242, -0.4242, -0.4242],\n",
      "         [-0.4242, -0.4242, -0.4242, -0.4242, -0.4242, -0.4242, -0.4242,\n",
      "          -0.4242, -0.4242, -0.4242, -0.4242, -0.4242, -0.4242, -0.4242,\n",
      "          -0.4242, -0.4242, -0.4242, -0.4242,  0.9759,  1.8796, -0.4242,\n",
      "          -0.4242, -0.4242, -0.4242, -0.4242, -0.4242, -0.4242, -0.4242],\n",
      "         [-0.4242, -0.4242, -0.4242, -0.4242, -0.4242, -0.4242, -0.4242,\n",
      "          -0.4242, -0.4242, -0.4242, -0.4242, -0.4242, -0.4242, -0.4242,\n",
      "          -0.4242, -0.4242, -0.4242, -0.4242,  1.5487,  1.8796, -0.4242,\n",
      "          -0.4242, -0.4242, -0.4242, -0.4242, -0.4242, -0.4242, -0.4242],\n",
      "         [-0.4242, -0.4242, -0.4242, -0.4242, -0.4242, -0.4242, -0.4242,\n",
      "          -0.4242, -0.4242, -0.4242, -0.4242, -0.4242, -0.4242, -0.4242,\n",
      "          -0.4242, -0.4242, -0.4242, -0.4242,  1.8923,  1.8923, -0.4242,\n",
      "          -0.4242, -0.4242, -0.4242, -0.4242, -0.4242, -0.4242, -0.4242],\n",
      "         [-0.4242, -0.4242, -0.4242, -0.4242, -0.4242, -0.4242, -0.4242,\n",
      "          -0.4242, -0.4242, -0.4242, -0.4242, -0.4242, -0.4242, -0.4242,\n",
      "          -0.4242, -0.4242, -0.4242, -0.4242,  1.8796,  1.8796, -0.4242,\n",
      "          -0.4242, -0.4242, -0.4242, -0.4242, -0.4242, -0.4242, -0.4242],\n",
      "         [-0.4242, -0.4242, -0.4242, -0.4242, -0.4242, -0.4242, -0.4242,\n",
      "          -0.4242, -0.4242, -0.4242, -0.4242, -0.4242, -0.4242, -0.4242,\n",
      "          -0.4242, -0.4242, -0.4242, -0.1315,  2.3378,  1.8796, -0.4242,\n",
      "          -0.4242, -0.4242, -0.4242, -0.4242, -0.4242, -0.4242, -0.4242],\n",
      "         [-0.4242, -0.4242, -0.4242, -0.4242, -0.4242, -0.4242, -0.4242,\n",
      "          -0.4242, -0.4242, -0.4242, -0.4242, -0.4242, -0.4242, -0.4242,\n",
      "          -0.4242, -0.4242, -0.4242,  0.9632,  2.7960,  1.8796, -0.4242,\n",
      "          -0.4242, -0.4242, -0.4242, -0.4242, -0.4242, -0.4242, -0.4242],\n",
      "         [-0.4242, -0.4242, -0.4242, -0.4242, -0.4242, -0.4242, -0.4242,\n",
      "          -0.4242, -0.4242, -0.4242, -0.4242, -0.4242, -0.4242, -0.4242,\n",
      "          -0.4242, -0.4242, -0.4242, -0.0296,  2.1342,  1.8796, -0.4242,\n",
      "          -0.4242, -0.4242, -0.4242, -0.4242, -0.4242, -0.4242, -0.4242],\n",
      "         [-0.4242, -0.4242, -0.4242, -0.4242, -0.4242, -0.4242, -0.4242,\n",
      "          -0.4242, -0.4242, -0.4242, -0.4242, -0.4242, -0.4242, -0.4242,\n",
      "          -0.4242, -0.4242, -0.4242, -0.4242, -0.4242, -0.4242, -0.4242,\n",
      "          -0.4242, -0.4242, -0.4242, -0.4242, -0.4242, -0.4242, -0.4242]]]) Label: 9\n"
     ]
    },
    {
     "data": {
      "image/png": "[encoded data removed]",
      "text/plain": [
       "<Figure size 640x480 with 1 Axes>"
      ]
     },
     "metadata": {},
     "output_type": "display_data"
    }
   ],
   "source": [
    "print( \"Number of training samples:\", count_train )\n",
    "print( \"Number of test samples:\", count_test )\n",
    "\n",
    "# Examine data samples:\n",
    "img, label = mnist_train[ torch.randint( 0, count_train, ( ) ) ]\n",
    "print( \"Image:\", img, \"Label:\", label )\n",
    "\n",
    "# Denormalize image (assuming MNIST normalization: mean=0.1307, std=0.3081)\n",
    "mean, std = 0.1307, 0.3081\n",
    "img_denorm = img * std + mean  # undo normalization\n",
    "\n",
    "# Convert to numpy and squeeze the channel for display\n",
    "img_np = img_denorm.squeeze().numpy()\n",
    "\n",
    "plt.imshow(img_np, cmap=\"gray\")\n",
    "plt.title(f\"Label: {label}\")\n",
    "plt.axis(\"off\")\n",
    "plt.show()"
   ]
  },
  {
   "cell_type": "markdown",
   "id": "fee88cd6",
   "metadata": {},
   "source": [
    "## 📦 Data Loader & Hyperparameter Setup\n",
    "\n",
    "To train our CNN model efficiently, we define a few key **training hyperparameters** and configure a **data preprocessing pipeline** that prepares the MNIST dataset for use in PyTorch.\n",
    "\n",
    "---\n",
    "\n",
    "### 🎛️ Training Hyperparameters\n",
    "\n",
    "| Hyperparameter   | Value      | Description                                                       |\n",
    "|------------------|------------|-------------------------------------------------------------------|\n",
    "| `batch_size`     | `64`       | Number of samples per batch — balances speed and gradient quality |\n",
    "| `epochs`         | `5`        | Total passes over the training set                               |\n",
    "| `lr`             | `0.001`    | Learning rate — controls optimizer step size                      |\n",
    "\n",
    "---\n"
   ]
  },
  {
   "cell_type": "code",
   "execution_count": null,
   "id": "507d18e2",
   "metadata": {},
   "outputs": [],
   "source": [
    "n_batch = 64\n",
    "\n",
    "# Create a DataLoader to load the dataset in batches:\n",
    "data_loader = DataLoader( mnist_train,\n",
    "                          batch_size=n_batch,\n",
    "                          shuffle=True )\n",
    "\n"
   ]
  },
  {
   "cell_type": "code",
   "execution_count": null,
   "id": "f666e505",
   "metadata": {},
   "outputs": [],
   "source": [
    "# Synthetic digits dataset:\n",
    "\n",
    "# Create transform for the dataset using the mean and std computed in our data science notebook ...\n",
    "synthetic_tx = transforms.Compose([\n",
    "    transforms.Grayscale( num_output_channels=1 ),\n",
    "    transforms.ToTensor( ),\n",
    "    transforms.Normalize( mean=[0.01599], std=[0.07722] )\n",
    "])\n",
    "\n",
    "synth_folder  = os.path.join( \"..\", \"data\", \"synthetic_digits\" )\n",
    "synth_dataset = ImageFolder( root=synth_folder, transform=synthetic_tx )\n",
    "\n",
    "combined_ds   = ConcatDataset( [ synth_dataset, mnist_train ] )\n",
    "data_loader   = DataLoader( combined_ds, batch_size=64, shuffle=True, num_workers=4 )"
   ]
  },
  {
   "cell_type": "markdown",
   "id": "0624fe45",
   "metadata": {},
   "source": [
    "# 🧠 MNIST Control Model Architecture Overview\n",
    "\n",
    "## 🎯 Objective\n",
    "\n",
    "This notebook establishes a **well-performing, yet minimal and interpretable convolutional neural network (CNN)** designed to solve the **MNIST handwritten digit classification problem**. Our intent is to create a **robust \"control\" architecture** for later comparative experiments involving more advanced or experimental models. MNIST is a widely used benchmark dataset for evaluating model performance in image recognition tasks.\n",
    "\n",
    "---\n",
    "\n",
    "\n",
    "## 🧱 Model Architecture\n",
    "\n",
    "A lightweight yet competitive CNN inspired by classical deep learning pipelines.\n",
    "\n",
    "| Layer              | Type            | Shape In → Out      | Activation | Notes                         |\n",
    "|--------------------|------------------|----------------------|------------|-------------------------------|\n",
    "| 🔹 Input           | Image            | `1 × 28 × 28`        | –          | Grayscale digit image         |\n",
    "| 🔸 Conv1           | Conv2d(1→32, 3×3) | `28 × 28 → 28 × 28`  | ReLU       | Padding preserves resolution  |\n",
    "| 🔸 MaxPool1        | MaxPool2d(2×2)   | `28 × 28 → 14 × 14`  | –          | Downsamples feature maps      |\n",
    "| 🔸 Conv2           | Conv2d(32→64, 3×3)| `14 × 14 → 14 × 14` | ReLU       | Captures mid-level patterns   |\n",
    "| 🔸 MaxPool2        | MaxPool2d(2×2)   | `14 × 14 → 7 × 7`    | –          | Further spatial reduction     |\n",
    "| 🔸 Flatten         | –                | `64 × 7 × 7 → 3136`  | –          | Prep for dense layers         |\n",
    "| 🔸 FC1             | Linear(3136→128) | `3136 → 128`         | ReLU       | Dense representation          |\n",
    "| 🔸 Dropout         | Dropout(p=0.25)  | `128 → 128`          | –          | Regularization against overfit|\n",
    "| 🔸 FC2             | Linear(128→10)   | `128 → 10`           | –          | Raw class logits (pre-Softmax)|\n",
    "\n",
    "---\n",
    "\n",
    "## ⚙️ Design Rationale\n",
    "\n",
    "### ✅ Simplicity with Performance\n",
    "This architecture balances **simplicity**, **speed**, and **performance**, achieving **~99% accuracy** on MNIST while remaining **transparent and modifiable**.\n",
    "\n",
    "### 🧩 Key Design Choices\n",
    "\n",
    "- **2× Convolution Layers**: Enough for capturing local and mid-level features on 28×28 inputs.\n",
    "- **MaxPooling**: Reduces computation, introduces translational invariance.\n",
    "- **Dropout**: Prevents overfitting in dense layers, especially for small datasets.\n",
    "- **ReLU Activations**: Promote fast convergence and sparse gradients.\n",
    "- **Minimal FC layers**: Keeps parameter count low without sacrificing accuracy.\n",
    "\n",
    "---\n",
    "\n",
    "## 🧪 Purpose in Research\n",
    "\n",
    "This model acts as a **baseline control** for later experiments involving:\n",
    "\n",
    "- Architectural modifications (residuals, batch norm, transformers, etc.)\n",
    "- Alternative optimization strategies (SGD vs AdamW)\n",
    "- Ablation studies\n",
    "- Regularization and generalization research\n",
    "\n",
    "It serves as a **trustworthy metric anchor** to assess whether newer approaches offer real improvements or are overly complex.\n",
    "\n",
    "---\n",
    "\n",
    "## 📈 Performance Baseline\n",
    "\n",
    "With standard hyperparameters:\n",
    "\n",
    "```python\n",
    "epochs = 5\n",
    "batch_size = 64\n",
    "optimizer = Adam(lr=1e-3)\n",
    "loss_fn = CrossEntropyLoss()\n"
   ]
  },
  {
   "cell_type": "code",
   "execution_count": 9,
   "id": "95e02b41",
   "metadata": {},
   "outputs": [],
   "source": [
    "# Define a convolutional neural network (CNN) model\n",
    "import torch\n",
    "import torch.nn as nn\n",
    "import torch.nn.functional as F\n",
    "\n",
    "# Define the CNN model\n",
    "class MNISTNet( nn.Module ):\n",
    "    def __init__( self ):\n",
    "        \"\"\"\n",
    "        Initialize the CNN model.\n",
    "        \"\"\"\n",
    "        \n",
    "        super( ).__init__( )\n",
    "        \n",
    "        # Define the layers of the CNN:\n",
    "        self.conv1 = nn.Conv2d( 1, 32, 3, padding=1 )\n",
    "        self.conv2 = nn.Conv2d( 32, 64, 3, padding=1 )\n",
    "        self.pool = nn.MaxPool2d( 2, 2 )\n",
    "        self.fc1 = nn.Linear( 64 * 7 * 7, 128 )\n",
    "        self.dropout = nn.Dropout( 0.25 )\n",
    "        self.fc2 = nn.Linear( 128, 10 )\n",
    "\n",
    "    def forward( self, x ):\n",
    "        \"\"\"\n",
    "        Define the forward pass of the model.\n",
    "        Args:\n",
    "            x (torch.Tensor): Input tensor.\n",
    "        Returns:\n",
    "            torch.Tensor: Output tensor.\n",
    "        \"\"\"\n",
    "        # Apply the convolutional layers, activation functions, and pooling:\n",
    "        # (Note: The input tensor is expected to have shape [batch_size, 1, 28, 28])\n",
    "        x = self.pool( torch.relu( self.conv1(x) ) )\n",
    "        x = self.pool( torch.relu( self.conv2(x) ) )\n",
    "        x = torch.flatten( x, 1 )\n",
    "        x = self.dropout( torch.relu( self.fc1(x) ) )\n",
    "        x = self.fc2( x )\n",
    "        return x\n"
   ]
  },
  {
   "cell_type": "markdown",
   "id": "e70b36dd",
   "metadata": {},
   "source": [
    "# 🖴 Loading Saved Model Weights\n",
    "\n",
    "### 🔁 Load:\n",
    "```python\n",
    "model = MNISTNet( ).to( device )\n",
    "model.load_state_dict( torch.load(\"mnist_cnn.pth\") )\n",
    "model.eval( ) # Important for inference mode (dropout, etc.)\n",
    "```\n"
   ]
  },
  {
   "cell_type": "code",
   "execution_count": 18,
   "id": "865bcbda",
   "metadata": {},
   "outputs": [
    {
     "data": {
      "text/plain": [
       "<All keys matched successfully>"
      ]
     },
     "execution_count": 18,
     "metadata": {},
     "output_type": "execute_result"
    }
   ],
   "source": [
    "# Load the model if not already loaded\n",
    "filename = 'mnist_cnn_02.pth'\n",
    "model_output_dir = os.path.join( '..', 'models' )\n",
    "load_path = os.path.join( model_output_dir, filename )\n",
    "\n",
    "device = torch.device( \"cuda\" if torch.cuda.is_available() else \"cpu\" )\n",
    "model = MNISTNet( ).to( device )\n",
    "\n",
    "model.load_state_dict( torch.load( load_path ) )"
   ]
  },
  {
   "cell_type": "markdown",
   "id": "032aa666",
   "metadata": {},
   "source": [
    "## 🚂 Model Training Loop\n",
    "\n",
    "With the data loaders and architecture in place, we now define and execute the **training loop** to optimize the model parameters using backpropagation.\n",
    "\n",
    "This loop follows a typical supervised learning pattern:\n",
    "1. 🔄 Load a batch of input images and labels\n",
    "2. 🧮 Forward pass through the network\n",
    "3. 🎯 Compute the loss against ground truth\n",
    "4. 🔁 Backpropagate gradients\n",
    "5. 🛠️ Update model weights via optimizer\n",
    "\n",
    "---\n",
    "\n",
    "### ⚙️ Optimizer & Loss Function\n",
    "\n",
    "```python\n",
    "import torch.nn as nn\n",
    "import torch.optim as optim\n",
    "\n",
    "model = MNISTNet().to(device)\n",
    "optimizer = optim.Adam(model.parameters(), lr=lr)\n",
    "loss_fn = nn.CrossEntropyLoss()\n",
    "```\n"
   ]
  },
  {
   "cell_type": "code",
   "execution_count": 13,
   "id": "11d92de7",
   "metadata": {},
   "outputs": [],
   "source": [
    "epochs = 10\n",
    "lr     = 0.001\n",
    "\n",
    "# Create an instance of the model and use the GPU if available:\n",
    "device = torch.device( \"cuda\" if torch.cuda.is_available() else \"cpu\" )\n",
    "\n",
    "# Define loss function and optimizer:\n",
    "loss_fn   = nn.CrossEntropyLoss( )\n",
    "optimizer = optim.Adam( model.parameters( ), lr=lr )"
   ]
  },
  {
   "cell_type": "code",
   "execution_count": null,
   "id": "2bf088f2",
   "metadata": {},
   "outputs": [
    {
     "name": "stderr",
     "output_type": "stream",
     "text": [
      "                                                                                \r"
     ]
    },
    {
     "name": "stdout",
     "output_type": "stream",
     "text": [
      "📈 Epoch  1 | Loss: 0.0111 | Accuracy: 99.7029%\n"
     ]
    },
    {
     "name": "stderr",
     "output_type": "stream",
     "text": [
      "                                                                                \r"
     ]
    },
    {
     "name": "stdout",
     "output_type": "stream",
     "text": [
      "📈 Epoch  2 | Loss: 0.0100 | Accuracy: 99.7662%\n"
     ]
    },
    {
     "name": "stderr",
     "output_type": "stream",
     "text": [
      "                                                                               \r"
     ]
    },
    {
     "name": "stdout",
     "output_type": "stream",
     "text": [
      "📈 Epoch  3 | Loss: 0.0102 | Accuracy: 99.7256%\n"
     ]
    },
    {
     "name": "stderr",
     "output_type": "stream",
     "text": [
      "                                                                                \r"
     ]
    },
    {
     "name": "stdout",
     "output_type": "stream",
     "text": [
      "📈 Epoch  4 | Loss: 0.0100 | Accuracy: 99.7375%\n"
     ]
    },
    {
     "name": "stderr",
     "output_type": "stream",
     "text": [
      "                                                                                \r"
     ]
    },
    {
     "name": "stdout",
     "output_type": "stream",
     "text": [
      "📈 Epoch  5 | Loss: 0.0103 | Accuracy: 99.7524%\n"
     ]
    },
    {
     "name": "stderr",
     "output_type": "stream",
     "text": [
      "                                                                                \r"
     ]
    },
    {
     "name": "stdout",
     "output_type": "stream",
     "text": [
      "📈 Epoch  6 | Loss: 0.0085 | Accuracy: 99.7841%\n"
     ]
    },
    {
     "name": "stderr",
     "output_type": "stream",
     "text": [
      "                                                                                \r"
     ]
    },
    {
     "name": "stdout",
     "output_type": "stream",
     "text": [
      "📈 Epoch  7 | Loss: 0.0089 | Accuracy: 99.7712%\n"
     ]
    },
    {
     "name": "stderr",
     "output_type": "stream",
     "text": [
      "                                                                                \r"
     ]
    },
    {
     "name": "stdout",
     "output_type": "stream",
     "text": [
      "📈 Epoch  8 | Loss: 0.0100 | Accuracy: 99.7593%\n"
     ]
    },
    {
     "name": "stderr",
     "output_type": "stream",
     "text": [
      "                                                                               \r"
     ]
    },
    {
     "name": "stdout",
     "output_type": "stream",
     "text": [
      "📈 Epoch  9 | Loss: 0.0085 | Accuracy: 99.7801%\n"
     ]
    },
    {
     "name": "stderr",
     "output_type": "stream",
     "text": [
      "                                                                                 "
     ]
    },
    {
     "name": "stdout",
     "output_type": "stream",
     "text": [
      "📈 Epoch 10 | Loss: 0.0079 | Accuracy: 99.8019%\n"
     ]
    },
    {
     "name": "stderr",
     "output_type": "stream",
     "text": [
      "\r"
     ]
    }
   ],
   "source": [
    "# Training the model:\n",
    "for epoch in range( epochs ):\n",
    "    model.train( )  # Set the model to training mode\n",
    "    total_loss = 0\n",
    "    correct = 0\n",
    "    total = 0\n",
    "\n",
    "    # Create a progress bar for the training loop\n",
    "    progress = tqdm( data_loader, desc=f\"Epoch {epoch+1}/{epochs}\", leave=False )\n",
    "    \n",
    "    # Iterate over the DataLoader\n",
    "    for images, labels in progress:\n",
    "        images, labels = images.to( device ), labels.to( device )\n",
    "\n",
    "        # Zero gradients from previous step\n",
    "        optimizer.zero_grad( )\n",
    "\n",
    "        # Forward pass\n",
    "        outputs = model( images )\n",
    "\n",
    "        # Compute loss\n",
    "        loss = loss_fn( outputs, labels )\n",
    "\n",
    "        # Backpropagation\n",
    "        loss.backward( )\n",
    "\n",
    "        # Update weights\n",
    "        optimizer.step( )\n",
    "\n",
    "        # Accumulate loss\n",
    "        batch_loss = loss.item( )\n",
    "        total_loss += batch_loss\n",
    "        \n",
    "        # Calculate accuracy\n",
    "        preds = outputs.argmax( dim=1 )\n",
    "        correct += ( preds == labels ).sum( ).item( )\n",
    "        total += labels.size( 0 )\n",
    "\n",
    "        progress.set_postfix( {\n",
    "            \"Loss\": f\"{total_loss / (total / n_batch):.4f}\",\n",
    "            \"Acc\": f\"{correct / total:.4%}\"\n",
    "        } )\n",
    "\n",
    "    print( f\"📈 Epoch {epoch+1:>2} | Loss: {total_loss / len(data_loader):.4f} | Accuracy: {correct / total:.4%}\" )\n",
    "    progress.close( )\n",
    "\n"
   ]
  },
  {
   "cell_type": "markdown",
   "id": "ea4dcd8b",
   "metadata": {},
   "source": [
    "# 📁 Saving the model ...\n",
    "\n",
    "## ✅ Recommended: Save Model Weights (State Dict)\n",
    "> This is the standard, flexible approach for reloading models in code.\n",
    "\n",
    "### 🔐 Save:\n",
    "```python\n",
    "torch.save( model.state_dict(), \"mnist_cnn.pth\" )\n",
    "```\n",
    "\n",
    "---\n",
    "\n",
    "## 🧱 Alternative: Save Full Model (Not Recommended Long-Term)\n",
    "```python\n",
    "torch.save( model, \"mnist_full_model.pth\" )\n",
    "```\n",
    "\n",
    "And to load:\n",
    "```python\n",
    "model = torch.load(\"mnist_full_model.pth\")\n",
    "model.eval()\n",
    "```\n",
    "\n",
    "### ⚠️ Caution: This approach serializes the full model structure and class. It:\n",
    "- Breaks if the source code changes\n",
    "- Isn’t portable across versions or environments\n",
    "___"
   ]
  },
  {
   "cell_type": "code",
   "execution_count": 25,
   "id": "b20ba70c",
   "metadata": {},
   "outputs": [
    {
     "name": "stdout",
     "output_type": "stream",
     "text": [
      "Model saved to: ..\\models\\mnist_cnn_02.pth\n"
     ]
    }
   ],
   "source": [
    "filename = 'mnist_cnn_02.pth'\n",
    "model_output_dir = os.path.join( '..', 'models' )\n",
    "model_output_path = os.path.join( model_output_dir, filename )\n",
    "\n",
    "if not os.path.exists( model_output_dir ):\n",
    "    os.makedirs( model_output_dir )\n",
    "    \n",
    "# Save the trained model\n",
    "torch.save( model.state_dict( ), model_output_path )\n",
    "print( \"Model saved to:\", model_output_path )"
   ]
  },
  {
   "cell_type": "markdown",
   "id": "9d36d6ab",
   "metadata": {},
   "source": [
    "# 📊 Evaluation Loop & Accuracy Visualization\n",
    "\n",
    "Once the model is trained, we run an evaluation pass over the test set to:\n",
    "- Compute total accuracy\n",
    "- Track predictions across all batches\n",
    "- Plot a performance summary graph\n",
    "\n",
    "---\n"
   ]
  },
  {
   "cell_type": "code",
   "execution_count": 19,
   "id": "4f2a1726",
   "metadata": {},
   "outputs": [
    {
     "name": "stdout",
     "output_type": "stream",
     "text": [
      "✅ Test Accuracy: 99.06%\n",
      "Total Images: 10000, Correct Predictions: 9906\n"
     ]
    }
   ],
   "source": [
    "# Rebuild test dataset with transform applied\n",
    "#mnist_test = datasets.MNIST( data_path, train=False, download=True, transform=tx )\n",
    "\n",
    "# Create test DataLoader\n",
    "test_loader = DataLoader( mnist_test, batch_size=64, shuffle=False )\n",
    "\n",
    "# Set model to evaluation mode\n",
    "model.eval( )\n",
    "\n",
    "total   = 0\n",
    "correct = 0\n",
    "losses        = [ ]\n",
    "predictions   = [ ]\n",
    "ground_truths = [ ]\n",
    "\n",
    "with torch.no_grad( ):\n",
    "    for images, labels in test_loader:\n",
    "        images, labels = images.to( device ), labels.to( device )\n",
    "\n",
    "        outputs = model( images )\n",
    "        loss = loss_fn( outputs, labels )\n",
    "        losses.append( loss.item() )\n",
    "\n",
    "        _, predicted = torch.max( outputs.data, 1 )\n",
    "        predictions.extend( predicted.cpu().numpy() )\n",
    "        ground_truths.extend( labels.cpu().numpy() )\n",
    "\n",
    "        correct += (predicted == labels).sum( ).item( )\n",
    "        total += labels.size( 0 )\n",
    "\n",
    "accuracy = 100.0 * correct / total\n",
    "print( f\"✅ Test Accuracy: {accuracy:.2f}%\")\n",
    "print( f\"Total Images: {total}, Correct Predictions: {correct}\" )"
   ]
  },
  {
   "cell_type": "markdown",
   "id": "53ac95a1",
   "metadata": {},
   "source": [
    "# 📈 Performance Visualizations:\n",
    "\n",
    "---\n",
    "\n",
    "### Batch Loss Over Evaluation\n",
    "> 📊 What It Represents\n",
    " - X-Axis (Batch Index): Each point represents a batch of 64 test images in order of evaluation.\n",
    "\n",
    " - Y-Axis (Loss): The loss value for that batch (i.e., how well the model's predictions matched the ground truth for that specific batch).\n",
    "\n",
    "---\n"
   ]
  },
  {
   "cell_type": "code",
   "execution_count": 16,
   "id": "103e0ddb",
   "metadata": {},
   "outputs": [
    {
     "data": {
      "image/png": "[encoded data removed]",
      "text/plain": [
       "<Figure size 800x400 with 1 Axes>"
      ]
     },
     "metadata": {},
     "output_type": "display_data"
    }
   ],
   "source": [
    "plt.figure(figsize=(8, 4))\n",
    "plt.plot(losses, marker='o', linestyle='-', label=\"Batch Loss\")\n",
    "plt.xlabel(\"Batch Index\")\n",
    "plt.ylabel(\"Loss\")\n",
    "plt.title(\"Test Batch Loss Over Evaluation Pass\")\n",
    "plt.grid(True)\n",
    "plt.legend()\n",
    "plt.tight_layout()\n",
    "plt.show()"
   ]
  }
 ],
 "metadata": {
  "kernelspec": {
   "display_name": ".conda",
   "language": "python",
   "name": "python3"
  },
  "language_info": {
   "codemirror_mode": {
    "name": "ipython",
    "version": 3
   },
   "file_extension": ".py",
   "mimetype": "text/x-python",
   "name": "python",
   "nbconvert_exporter": "python",
   "pygments_lexer": "ipython3",
   "version": "3.12.0"
  }
 },
 "nbformat": 4,
 "nbformat_minor": 5
}
