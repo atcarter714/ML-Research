{
 "cells": [
  {
   "cell_type": "markdown",
   "id": "a0f9e122",
   "metadata": {},
   "source": [
    "## Setup & Package Installation\n",
    "---\n",
    "\n",
    "- Install datasets\n",
    "- Install HuggingFace Hub\n"
   ]
  },
  {
   "cell_type": "code",
   "execution_count": 2,
   "id": "2c3b2342",
   "metadata": {},
   "outputs": [
    {
     "name": "stdout",
     "output_type": "stream",
     "text": [
      "Collecting datasets\n",
      "  Downloading datasets-3.6.0-py3-none-any.whl.metadata (19 kB)\n",
      "Requirement already satisfied: huggingface_hub in c:\\users\\atcar\\source\\playground\\arkaen-ml\\script\\python\\.conda\\lib\\site-packages (0.30.1)\n",
      "Requirement already satisfied: filelock in c:\\users\\atcar\\source\\playground\\arkaen-ml\\script\\python\\.conda\\lib\\site-packages (from datasets) (3.13.1)\n",
      "Requirement already satisfied: numpy>=1.17 in c:\\users\\atcar\\source\\playground\\arkaen-ml\\script\\python\\.conda\\lib\\site-packages (from datasets) (1.26.4)\n",
      "Collecting pyarrow>=15.0.0 (from datasets)\n",
      "  Downloading pyarrow-20.0.0-cp312-cp312-win_amd64.whl.metadata (3.4 kB)\n",
      "Collecting dill<0.3.9,>=0.3.0 (from datasets)\n",
      "  Using cached dill-0.3.8-py3-none-any.whl.metadata (10 kB)\n",
      "Requirement already satisfied: pandas in c:\\users\\atcar\\source\\playground\\arkaen-ml\\script\\python\\.conda\\lib\\site-packages (from datasets) (2.2.0)\n",
      "Collecting requests>=2.32.2 (from datasets)\n",
      "  Using cached requests-2.32.3-py3-none-any.whl.metadata (4.6 kB)\n",
      "Requirement already satisfied: tqdm>=4.66.3 in c:\\users\\atcar\\source\\playground\\arkaen-ml\\script\\python\\.conda\\lib\\site-packages (from datasets) (4.67.1)\n",
      "Collecting xxhash (from datasets)\n",
      "  Downloading xxhash-3.5.0-cp312-cp312-win_amd64.whl.metadata (13 kB)\n",
      "Collecting multiprocess<0.70.17 (from datasets)\n",
      "  Using cached multiprocess-0.70.16-py312-none-any.whl.metadata (7.2 kB)\n",
      "Requirement already satisfied: fsspec<=2025.3.0,>=2023.1.0 in c:\\users\\atcar\\source\\playground\\arkaen-ml\\script\\python\\.conda\\lib\\site-packages (from fsspec[http]<=2025.3.0,>=2023.1.0->datasets) (2024.6.1)\n",
      "Requirement already satisfied: packaging in c:\\users\\atcar\\source\\playground\\arkaen-ml\\script\\python\\.conda\\lib\\site-packages (from datasets) (23.2)\n",
      "Requirement already satisfied: pyyaml>=5.1 in c:\\users\\atcar\\source\\playground\\arkaen-ml\\script\\python\\.conda\\lib\\site-packages (from datasets) (6.0.2)\n",
      "Requirement already satisfied: typing-extensions>=3.7.4.3 in c:\\users\\atcar\\source\\playground\\arkaen-ml\\script\\python\\.conda\\lib\\site-packages (from huggingface_hub) (4.12.2)\n",
      "Collecting aiohttp!=4.0.0a0,!=4.0.0a1 (from fsspec[http]<=2025.3.0,>=2023.1.0->datasets)\n",
      "  Downloading aiohttp-3.11.18-cp312-cp312-win_amd64.whl.metadata (8.0 kB)\n",
      "Requirement already satisfied: charset-normalizer<4,>=2 in c:\\users\\atcar\\source\\playground\\arkaen-ml\\script\\python\\.conda\\lib\\site-packages (from requests>=2.32.2->datasets) (3.3.2)\n",
      "Requirement already satisfied: idna<4,>=2.5 in c:\\users\\atcar\\source\\playground\\arkaen-ml\\script\\python\\.conda\\lib\\site-packages (from requests>=2.32.2->datasets) (3.6)\n",
      "Requirement already satisfied: urllib3<3,>=1.21.1 in c:\\users\\atcar\\source\\playground\\arkaen-ml\\script\\python\\.conda\\lib\\site-packages (from requests>=2.32.2->datasets) (2.1.0)\n",
      "Requirement already satisfied: certifi>=2017.4.17 in c:\\users\\atcar\\source\\playground\\arkaen-ml\\script\\python\\.conda\\lib\\site-packages (from requests>=2.32.2->datasets) (2023.11.17)\n",
      "Requirement already satisfied: colorama in c:\\users\\atcar\\appdata\\roaming\\python\\python312\\site-packages (from tqdm>=4.66.3->datasets) (0.4.6)\n",
      "Requirement already satisfied: python-dateutil>=2.8.2 in c:\\users\\atcar\\source\\playground\\arkaen-ml\\script\\python\\.conda\\lib\\site-packages (from pandas->datasets) (2.8.2)\n",
      "Requirement already satisfied: pytz>=2020.1 in c:\\users\\atcar\\source\\playground\\arkaen-ml\\script\\python\\.conda\\lib\\site-packages (from pandas->datasets) (2024.1)\n",
      "Requirement already satisfied: tzdata>=2022.7 in c:\\users\\atcar\\source\\playground\\arkaen-ml\\script\\python\\.conda\\lib\\site-packages (from pandas->datasets) (2024.1)\n",
      "Collecting aiohappyeyeballs>=2.3.0 (from aiohttp!=4.0.0a0,!=4.0.0a1->fsspec[http]<=2025.3.0,>=2023.1.0->datasets)\n",
      "  Downloading aiohappyeyeballs-2.6.1-py3-none-any.whl.metadata (5.9 kB)\n",
      "Collecting aiosignal>=1.1.2 (from aiohttp!=4.0.0a0,!=4.0.0a1->fsspec[http]<=2025.3.0,>=2023.1.0->datasets)\n",
      "  Downloading aiosignal-1.3.2-py2.py3-none-any.whl.metadata (3.8 kB)\n",
      "Collecting attrs>=17.3.0 (from aiohttp!=4.0.0a0,!=4.0.0a1->fsspec[http]<=2025.3.0,>=2023.1.0->datasets)\n",
      "  Downloading attrs-25.3.0-py3-none-any.whl.metadata (10 kB)\n",
      "Collecting frozenlist>=1.1.1 (from aiohttp!=4.0.0a0,!=4.0.0a1->fsspec[http]<=2025.3.0,>=2023.1.0->datasets)\n",
      "  Downloading frozenlist-1.6.0-cp312-cp312-win_amd64.whl.metadata (16 kB)\n",
      "Collecting multidict<7.0,>=4.5 (from aiohttp!=4.0.0a0,!=4.0.0a1->fsspec[http]<=2025.3.0,>=2023.1.0->datasets)\n",
      "  Downloading multidict-6.4.4-cp312-cp312-win_amd64.whl.metadata (5.5 kB)\n",
      "Collecting propcache>=0.2.0 (from aiohttp!=4.0.0a0,!=4.0.0a1->fsspec[http]<=2025.3.0,>=2023.1.0->datasets)\n",
      "  Downloading propcache-0.3.1-cp312-cp312-win_amd64.whl.metadata (11 kB)\n",
      "Collecting yarl<2.0,>=1.17.0 (from aiohttp!=4.0.0a0,!=4.0.0a1->fsspec[http]<=2025.3.0,>=2023.1.0->datasets)\n",
      "  Downloading yarl-1.20.0-cp312-cp312-win_amd64.whl.metadata (74 kB)\n",
      "     ---------------------------------------- 0.0/74.8 kB ? eta -:--:--\n",
      "     -------------------------------------- - 71.7/74.8 kB 2.0 MB/s eta 0:00:01\n",
      "     ---------------------------------------- 74.8/74.8 kB 2.1 MB/s eta 0:00:00\n",
      "Requirement already satisfied: six>=1.5 in c:\\users\\atcar\\appdata\\roaming\\python\\python312\\site-packages (from python-dateutil>=2.8.2->pandas->datasets) (1.16.0)\n",
      "Downloading datasets-3.6.0-py3-none-any.whl (491 kB)\n",
      "   ---------------------------------------- 0.0/491.5 kB ? eta -:--:--\n",
      "   ------------------ --------------------- 225.3/491.5 kB 4.6 MB/s eta 0:00:01\n",
      "   ---------------------------------------- 491.5/491.5 kB 5.1 MB/s eta 0:00:00\n",
      "Using cached dill-0.3.8-py3-none-any.whl (116 kB)\n",
      "Using cached multiprocess-0.70.16-py312-none-any.whl (146 kB)\n",
      "Downloading pyarrow-20.0.0-cp312-cp312-win_amd64.whl (25.7 MB)\n",
      "   ---------------------------------------- 0.0/25.7 MB ? eta -:--:--\n",
      "    --------------------------------------- 0.6/25.7 MB 17.8 MB/s eta 0:00:02\n",
      "   -- ------------------------------------- 1.6/25.7 MB 21.0 MB/s eta 0:00:02\n",
      "   ---- ----------------------------------- 3.0/25.7 MB 23.8 MB/s eta 0:00:01\n",
      "   ------- -------------------------------- 4.7/25.7 MB 30.3 MB/s eta 0:00:01\n",
      "   ---------- ----------------------------- 6.4/25.7 MB 29.3 MB/s eta 0:00:01\n",
      "   ------------- -------------------------- 8.5/25.7 MB 32.1 MB/s eta 0:00:01\n",
      "   ------------- -------------------------- 8.5/25.7 MB 32.1 MB/s eta 0:00:01\n",
      "   -------------- ------------------------- 9.0/25.7 MB 25.1 MB/s eta 0:00:01\n",
      "   ------------------- -------------------- 12.8/25.7 MB 34.6 MB/s eta 0:00:01\n",
      "   ----------------------- ---------------- 15.0/25.7 MB 36.3 MB/s eta 0:00:01\n",
      "   -------------------------- ------------- 16.8/25.7 MB 38.5 MB/s eta 0:00:01\n",
      "   ---------------------------- ----------- 18.5/25.7 MB 36.4 MB/s eta 0:00:01\n",
      "   ----------------------------- ---------- 19.0/25.7 MB 50.4 MB/s eta 0:00:01\n",
      "   ----------------------------- ---------- 19.0/25.7 MB 50.4 MB/s eta 0:00:01\n",
      "   ------------------------------------ --- 23.2/25.7 MB 40.9 MB/s eta 0:00:01\n",
      "   -------------------------------------- - 24.7/25.7 MB 36.4 MB/s eta 0:00:01\n",
      "   ---------------------------------------- 25.7/25.7 MB 32.7 MB/s eta 0:00:00\n",
      "Using cached requests-2.32.3-py3-none-any.whl (64 kB)\n",
      "Downloading xxhash-3.5.0-cp312-cp312-win_amd64.whl (30 kB)\n",
      "Downloading aiohttp-3.11.18-cp312-cp312-win_amd64.whl (439 kB)\n",
      "   ---------------------------------------- 0.0/439.4 kB ? eta -:--:--\n",
      "   --------------------------------------- 439.4/439.4 kB 26.8 MB/s eta 0:00:00\n",
      "Downloading aiohappyeyeballs-2.6.1-py3-none-any.whl (15 kB)\n",
      "Downloading aiosignal-1.3.2-py2.py3-none-any.whl (7.6 kB)\n",
      "Downloading attrs-25.3.0-py3-none-any.whl (63 kB)\n",
      "   ---------------------------------------- 0.0/63.8 kB ? eta -:--:--\n",
      "   ---------------------------------------- 63.8/63.8 kB 3.6 MB/s eta 0:00:00\n",
      "Downloading frozenlist-1.6.0-cp312-cp312-win_amd64.whl (120 kB)\n",
      "   ---------------------------------------- 0.0/120.5 kB ? eta -:--:--\n",
      "   ---------------------------------------- 120.5/120.5 kB 7.4 MB/s eta 0:00:00\n",
      "Downloading multidict-6.4.4-cp312-cp312-win_amd64.whl (38 kB)\n",
      "Downloading propcache-0.3.1-cp312-cp312-win_amd64.whl (44 kB)\n",
      "   ---------------------------------------- 0.0/44.8 kB ? eta -:--:--\n",
      "   ---------------------------------------- 44.8/44.8 kB ? eta 0:00:00\n",
      "Downloading yarl-1.20.0-cp312-cp312-win_amd64.whl (92 kB)\n",
      "   ---------------------------------------- 0.0/92.9 kB ? eta -:--:--\n",
      "   ---------------------------------------- 92.9/92.9 kB ? eta 0:00:00\n",
      "Installing collected packages: xxhash, requests, pyarrow, propcache, multidict, frozenlist, dill, attrs, aiohappyeyeballs, yarl, multiprocess, aiosignal, aiohttp, datasets\n",
      "  Attempting uninstall: requests\n",
      "    Found existing installation: requests 2.31.0\n",
      "    Uninstalling requests-2.31.0:\n",
      "      Successfully uninstalled requests-2.31.0\n",
      "Successfully installed aiohappyeyeballs-2.6.1 aiohttp-3.11.18 aiosignal-1.3.2 attrs-25.3.0 datasets-3.6.0 dill-0.3.8 frozenlist-1.6.0 multidict-6.4.4 multiprocess-0.70.16 propcache-0.3.1 pyarrow-20.0.0 requests-2.32.3 xxhash-3.5.0 yarl-1.20.0\n"
     ]
    }
   ],
   "source": [
    "!pip install datasets huggingface_hub"
   ]
  },
  {
   "cell_type": "markdown",
   "id": "9aa23916",
   "metadata": {},
   "source": [
    "# Synthetic MNIST - Houdini-Generated Digits\n",
    "\n",
    "This dataset contains 40,960 procedurally generated digit images (0–9),\n",
    "created with SideFX Houdini. Each digit class uses 64 different fonts\n",
    "and 64 frame variations (rotation, skew, jitter, grayscale noise).\n",
    "\n",
    "- Image Size: 28×28\n",
    "- Format: PNG or JPEG\n",
    "- Channels: Grayscale (1 channel)\n",
    "- Labels: Folder name = digit class (0–9)\n",
    "\n",
    "## Usage with PyTorch\n",
    "\n",
    "```python\n",
    "from torchvision.datasets import ImageFolder\n",
    "dataset = ImageFolder( \"synthetic_digits\" )\n",
    "```\n"
   ]
  },
  {
   "cell_type": "code",
   "execution_count": 2,
   "id": "7137171d",
   "metadata": {},
   "outputs": [
    {
     "name": "stdout",
     "output_type": "stream",
     "text": [
      "Number of images: 40960\n",
      "torch.Size([64, 3, 28, 28])\n",
      "tensor([1, 2, 9, 3, 8, 4, 5, 7, 1, 5, 4, 7, 4, 4, 9, 2, 1, 4, 4, 2, 7, 0, 8, 6,\n",
      "        5, 1, 7, 2, 5, 6, 4, 2, 1, 6, 6, 2, 9, 3, 7, 3, 3, 0, 8, 5, 3, 3, 7, 8,\n",
      "        8, 0, 1, 3, 6, 0, 0, 7, 0, 5, 0, 6, 7, 4, 3, 3])\n"
     ]
    },
    {
     "data": {
      "image/png": "[encoded data removed]",
      "text/plain": [
       "<Figure size 1000x200 with 8 Axes>"
      ]
     },
     "metadata": {},
     "output_type": "display_data"
    }
   ],
   "source": [
    "import os\n",
    "from torchvision.datasets import ImageFolder\n",
    "from torchvision import transforms\n",
    "from torch.utils.data import DataLoader\n",
    "import matplotlib.pyplot as plt\n",
    "\n",
    "# Create transform for the dataset using the mean and std computed below ...\n",
    "transform = transforms.Compose([\n",
    "    transforms.ToTensor(),\n",
    "    transforms.Normalize(mean=[0.01599], std=[0.07722])\n",
    "])\n",
    "\n",
    "folder  = os.path.join( \"..\", \"data\", \"synthetic_digits\" )\n",
    "dataset = ImageFolder( root=folder, transform=transform )\n",
    "loader  = DataLoader( dataset, batch_size=64, shuffle=True )\n",
    "print( f\"Number of images: {len(dataset)}\" )\n",
    "\n",
    "# Preview a batch\n",
    "images, labels = next( iter(loader) )\n",
    "print( images.shape )  # [64, 1, 28, 28]\n",
    "print( labels )        # Tensor of digit labels\n",
    "\n",
    "# Visualize a few\n",
    "plt.figure( figsize=(10, 2) )\n",
    "for i in range( 8 ):\n",
    "    plt.subplot( 1, 8, i+1 )\n",
    "    plt.imshow( images[i][0], cmap=\"gray\" )\n",
    "    plt.title( f\"Label: {labels[i].item()}\" )\n",
    "    plt.axis( 'off' )\n",
    "plt.show( )\n"
   ]
  },
  {
   "cell_type": "markdown",
   "id": "a13d6da4",
   "metadata": {},
   "source": [
    "# Compute the mean and standard deviation:\n",
    "---\n",
    "\n",
    "We computed values of:\n",
    "> **Mean**: *0.01599*\n",
    "\n",
    "> **Std** : *0.0772*\n",
    "\n",
    "However, if you use a different set of rendered frames from Houdini and different parameters to create your dataset your values may vary a bit. If you use the settings \"as-is\" in the Houdini .hip file you should deterministically get the same thing without any changes ..."
   ]
  },
  {
   "cell_type": "code",
   "execution_count": null,
   "id": "b9643f57",
   "metadata": {},
   "outputs": [
    {
     "name": "stderr",
     "output_type": "stream",
     "text": [
      "100%|██████████| 640/640 [02:26<00:00,  4.36it/s]"
     ]
    },
    {
     "name": "stdout",
     "output_type": "stream",
     "text": [
      "Mean: 0.01599\n",
      "Std : 0.07722\n"
     ]
    },
    {
     "name": "stderr",
     "output_type": "stream",
     "text": [
      "\n"
     ]
    }
   ],
   "source": [
    "from torchvision.datasets import ImageFolder\n",
    "from torchvision import transforms\n",
    "from torch.utils.data import DataLoader\n",
    "import torch\n",
    "from tqdm import tqdm\n",
    "\n",
    "# Transform: only convert to tensor (0–1)\n",
    "tx = transforms.Compose([\n",
    "    transforms.Grayscale(num_output_channels=1),\n",
    "    transforms.ToTensor()\n",
    "])\n",
    "\n",
    "# Load dataset\n",
    "dataset = ImageFolder(root=folder, transform=tx)\n",
    "loader = DataLoader(dataset, batch_size=64, shuffle=False)\n",
    "\n",
    "# Accumulate pixel stats\n",
    "mean = 0.0\n",
    "squared_mean = 0.0\n",
    "total_images = 0\n",
    "\n",
    "for images, _ in tqdm(loader):\n",
    "    batch_samples = images.size(0)  # number of images in batch\n",
    "    images = images.view(batch_samples, -1)  # flatten each image\n",
    "\n",
    "    mean += images.mean(1).sum()\n",
    "    squared_mean += (images ** 2).mean(1).sum()\n",
    "    total_images += batch_samples\n",
    "\n",
    "# Final mean and std\n",
    "mean /= total_images\n",
    "squared_mean /= total_images\n",
    "std = (squared_mean - mean ** 2).sqrt()\n",
    "\n",
    "print(f\"Mean: {mean.item():.5f}\")\n",
    "print(f\"Std : {std.item():.5f}\")\n"
   ]
  }
 ],
 "metadata": {
  "kernelspec": {
   "display_name": ".conda",
   "language": "python",
   "name": "python3"
  },
  "language_info": {
   "codemirror_mode": {
    "name": "ipython",
    "version": 3
   },
   "file_extension": ".py",
   "mimetype": "text/x-python",
   "name": "python",
   "nbconvert_exporter": "python",
   "pygments_lexer": "ipython3",
   "version": "3.12.0"
  }
 },
 "nbformat": 4,
 "nbformat_minor": 5
}
